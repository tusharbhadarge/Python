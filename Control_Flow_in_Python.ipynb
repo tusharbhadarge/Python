{
  "nbformat": 4,
  "nbformat_minor": 0,
  "metadata": {
    "colab": {
      "name": "Control_Flow_in_Python.ipynb",
      "provenance": []
    },
    "kernelspec": {
      "name": "python3",
      "display_name": "Python 3"
    },
    "language_info": {
      "name": "python"
    }
  },
  "cells": [
    {
      "cell_type": "markdown",
      "metadata": {
        "id": "hZ-9yP2fR_J_"
      },
      "source": [
        "Take two numbers from the user and find which number is greater out of the two"
      ]
    },
    {
      "cell_type": "code",
      "metadata": {
        "colab": {
          "base_uri": "https://localhost:8080/"
        },
        "id": "XCazv6wUMOrC",
        "outputId": "394ace05-2fea-4c6e-eacf-f9c3d59e296d"
      },
      "source": [
        "x=int(input(\"enter the value for x\"))\n",
        "\n",
        "y=int(input(\"enter value for y\"))\n",
        "\n",
        "if x>y:\n",
        "  print(\"x is greater\")\n",
        "\n",
        "elif x==y:\n",
        "  print(\"both are same\")\n",
        "  \n",
        "else:\n",
        "  print(\"y is greater\")"
      ],
      "execution_count": 3,
      "outputs": [
        {
          "output_type": "stream",
          "text": [
            "enter the value for x15\n",
            "enter value for y15\n",
            "both are same\n"
          ],
          "name": "stdout"
        }
      ]
    },
    {
      "cell_type": "markdown",
      "metadata": {
        "id": "oyfXYIOpTY6R"
      },
      "source": [
        "Take three numbers as input from the user and find out the smallest number out of the three"
      ]
    },
    {
      "cell_type": "code",
      "metadata": {
        "id": "BeTIAJ8TSbRi"
      },
      "source": [
        ""
      ],
      "execution_count": null,
      "outputs": []
    }
  ]
}