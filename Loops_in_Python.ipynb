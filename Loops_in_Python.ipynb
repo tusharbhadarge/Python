{
  "nbformat": 4,
  "nbformat_minor": 0,
  "metadata": {
    "colab": {
      "name": "Loops_in_Python.ipynb",
      "provenance": []
    },
    "kernelspec": {
      "name": "python3",
      "display_name": "Python 3"
    },
    "language_info": {
      "name": "python"
    }
  },
  "cells": [
    {
      "cell_type": "markdown",
      "metadata": {
        "id": "Cu3z5Do3bwMK"
      },
      "source": [
        "Print natural numbers from 1-9"
      ]
    },
    {
      "cell_type": "code",
      "metadata": {
        "colab": {
          "base_uri": "https://localhost:8080/"
        },
        "id": "tZtNpMNGVjJm",
        "outputId": "b61c317e-2457-42e5-a509-b2c2a16e838f"
      },
      "source": [
        "a=1\n",
        "\n",
        "while a<=9:\n",
        "  print(a)\n",
        "  a=a+1"
      ],
      "execution_count": 1,
      "outputs": [
        {
          "output_type": "stream",
          "text": [
            "1\n",
            "2\n",
            "3\n",
            "4\n",
            "5\n",
            "6\n",
            "7\n",
            "8\n",
            "9\n"
          ],
          "name": "stdout"
        }
      ]
    },
    {
      "cell_type": "code",
      "metadata": {
        "colab": {
          "base_uri": "https://localhost:8080/"
        },
        "id": "oiEuBnVHb5E5",
        "outputId": "c17b684e-fba8-4042-99e5-ca5cbc196a4d"
      },
      "source": [
        "for i in range(1,10,1):\n",
        "  print(i)"
      ],
      "execution_count": 2,
      "outputs": [
        {
          "output_type": "stream",
          "text": [
            "1\n",
            "2\n",
            "3\n",
            "4\n",
            "5\n",
            "6\n",
            "7\n",
            "8\n",
            "9\n"
          ],
          "name": "stdout"
        }
      ]
    },
    {
      "cell_type": "code",
      "metadata": {
        "colab": {
          "base_uri": "https://localhost:8080/"
        },
        "id": "osrVv5-Bei04",
        "outputId": "6da751c9-576d-44ed-adbb-a703366d8757"
      },
      "source": [
        "for i in range(1,10,3):\n",
        "  print(i)"
      ],
      "execution_count": 10,
      "outputs": [
        {
          "output_type": "stream",
          "text": [
            "1\n",
            "4\n",
            "7\n"
          ],
          "name": "stdout"
        }
      ]
    },
    {
      "cell_type": "markdown",
      "metadata": {
        "id": "oO3tZlmNgg2J"
      },
      "source": [
        "Take a number from the user and display the multiplication table"
      ]
    },
    {
      "cell_type": "code",
      "metadata": {
        "colab": {
          "base_uri": "https://localhost:8080/"
        },
        "id": "1nSmAISDfZ4b",
        "outputId": "cdb0b61a-5ca1-4dd4-c04a-1e30268cebbc"
      },
      "source": [
        "a=int(input(\"enter a number\"))\n",
        "\n",
        "for i in range(1,11):\n",
        "  print(a*i)"
      ],
      "execution_count": 11,
      "outputs": [
        {
          "output_type": "stream",
          "text": [
            "enter a number5\n",
            "5\n",
            "10\n",
            "15\n",
            "20\n",
            "25\n",
            "30\n",
            "35\n",
            "40\n",
            "45\n",
            "50\n"
          ],
          "name": "stdout"
        }
      ]
    },
    {
      "cell_type": "markdown",
      "metadata": {
        "id": "6vlXS-gpkHgg"
      },
      "source": [
        "Take a number from the user and see if it is even or odd"
      ]
    },
    {
      "cell_type": "code",
      "metadata": {
        "colab": {
          "base_uri": "https://localhost:8080/"
        },
        "id": "sSAh2YnqkWsD",
        "outputId": "fbe8fa7b-3894-4a05-a842-06de679bcf1c"
      },
      "source": [
        "num=int(input(\"enter a number\"))\n",
        "\n",
        "if num%2==0:\n",
        "  print(\"it is even\",num)\n",
        "\n",
        "else:\n",
        "  print(\"it is odd\",num)"
      ],
      "execution_count": 18,
      "outputs": [
        {
          "output_type": "stream",
          "text": [
            "enter a number10\n",
            "it is even 10\n"
          ],
          "name": "stdout"
        }
      ]
    },
    {
      "cell_type": "markdown",
      "metadata": {
        "id": "znBsr4M1h36P"
      },
      "source": [
        "Write a program to display all the numbers which are divisible by 7 and 5 in a range of 1 to 150"
      ]
    },
    {
      "cell_type": "code",
      "metadata": {
        "colab": {
          "base_uri": "https://localhost:8080/"
        },
        "id": "En20MAXAgvvl",
        "outputId": "ad4b58e6-7e10-45a5-a51c-c9a66ffdb8b8"
      },
      "source": [
        "for i in range(1,151):\n",
        "\n",
        "  if i%7==0 and i%5==0:\n",
        "    print(i)"
      ],
      "execution_count": 14,
      "outputs": [
        {
          "output_type": "stream",
          "text": [
            "35\n",
            "70\n",
            "105\n",
            "140\n"
          ],
          "name": "stdout"
        }
      ]
    },
    {
      "cell_type": "markdown",
      "metadata": {
        "id": "haAlNI43ls2E"
      },
      "source": [
        "Take a list of number and find out all the even numbers from that list of numbers"
      ]
    },
    {
      "cell_type": "code",
      "metadata": {
        "colab": {
          "base_uri": "https://localhost:8080/"
        },
        "id": "B-97BOyPjCVr",
        "outputId": "222cf8c7-d109-4354-f28b-41da1b93613d"
      },
      "source": [
        "l1=[12,10,45,32,21,90,37,81]\n",
        "\n",
        "for i in l1:\n",
        "\n",
        "  if i%2==0:\n",
        "    print(i)"
      ],
      "execution_count": 19,
      "outputs": [
        {
          "output_type": "stream",
          "text": [
            "12\n",
            "10\n",
            "32\n",
            "90\n"
          ],
          "name": "stdout"
        }
      ]
    },
    {
      "cell_type": "code",
      "metadata": {
        "colab": {
          "base_uri": "https://localhost:8080/"
        },
        "id": "c9e0rJOqmFL9",
        "outputId": "22e50030-355d-4e2e-dd37-252f225d3974"
      },
      "source": [
        "name=input(\"enter your name\")\n",
        "\n",
        "for i in name:\n",
        "  print(i)"
      ],
      "execution_count": 21,
      "outputs": [
        {
          "output_type": "stream",
          "text": [
            "enter your nameAnkesh\n",
            "A\n",
            "n\n",
            "k\n",
            "e\n",
            "s\n",
            "h\n"
          ],
          "name": "stdout"
        }
      ]
    },
    {
      "cell_type": "markdown",
      "metadata": {
        "id": "Z9Hn2Y9ynKb8"
      },
      "source": [
        "Take a list of numbers and display all the odd numbers from the list of numbers"
      ]
    },
    {
      "cell_type": "code",
      "metadata": {
        "colab": {
          "base_uri": "https://localhost:8080/"
        },
        "id": "vIPJGJO9pjGn",
        "outputId": "16f67b5d-4a9f-45a3-f3e7-9ccd43a2e825"
      },
      "source": [
        "l1 = [23, 34, 57, 79, 91, 34, 45]\n",
        "\n",
        "for i in l1:\n",
        " if i%2!=0:\n",
        "  print(i)"
      ],
      "execution_count": 23,
      "outputs": [
        {
          "output_type": "stream",
          "text": [
            "23\n",
            "57\n",
            "79\n",
            "91\n",
            "45\n"
          ],
          "name": "stdout"
        }
      ]
    },
    {
      "cell_type": "code",
      "metadata": {
        "colab": {
          "base_uri": "https://localhost:8080/"
        },
        "id": "FVDlFdaAmR1y",
        "outputId": "2a638560-3fe5-4484-f032-b737082b3a7e"
      },
      "source": [
        "l1 = [23, 34, 57, 79, 91, 34, 45]\n",
        "\n",
        "for i in l1:\n",
        "  if i%2==0:\n",
        "    pass\n",
        "    \n",
        "  else:\n",
        "    print(i)"
      ],
      "execution_count": 22,
      "outputs": [
        {
          "output_type": "stream",
          "text": [
            "23\n",
            "57\n",
            "79\n",
            "91\n",
            "45\n"
          ],
          "name": "stdout"
        }
      ]
    },
    {
      "cell_type": "markdown",
      "metadata": {
        "id": "VR6MP61upvSv"
      },
      "source": [
        "STATEMENTS:\n",
        "\n",
        "1. PASS\n",
        "2. CONTINUE\n",
        "3. BREAK"
      ]
    },
    {
      "cell_type": "code",
      "metadata": {
        "colab": {
          "base_uri": "https://localhost:8080/"
        },
        "id": "AnKA6Wy9pdxy",
        "outputId": "73615228-e1ac-48e8-9aef-f33fe9269edd"
      },
      "source": [
        "x=int(input(\"enter value for x\"))\n",
        "y=int(input(\"enter value for y\"))\n",
        "\n",
        "if x>y:\n",
        "  pass\n",
        "\n",
        "else:\n",
        "  print(\"y is greater\")"
      ],
      "execution_count": 26,
      "outputs": [
        {
          "output_type": "stream",
          "text": [
            "enter value for x10\n",
            "enter value for y20\n",
            "y is greater\n"
          ],
          "name": "stdout"
        }
      ]
    },
    {
      "cell_type": "code",
      "metadata": {
        "id": "Y7v8YAZ6qVv6"
      },
      "source": [
        ""
      ],
      "execution_count": null,
      "outputs": []
    }
  ]
}