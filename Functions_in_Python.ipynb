{
  "nbformat": 4,
  "nbformat_minor": 0,
  "metadata": {
    "colab": {
      "name": "Functions_in_Python.ipynb",
      "provenance": []
    },
    "kernelspec": {
      "name": "python3",
      "display_name": "Python 3"
    },
    "language_info": {
      "name": "python"
    }
  },
  "cells": [
    {
      "cell_type": "markdown",
      "metadata": {
        "id": "QUaxSVB3YcIj"
      },
      "source": [
        "Addition of two numbers "
      ]
    },
    {
      "cell_type": "code",
      "metadata": {
        "id": "7Rt2fZhJURTj"
      },
      "source": [
        "def add(a,b):\n",
        "\n",
        "  c=a+b\n",
        "\n",
        "  print(c)"
      ],
      "execution_count": 1,
      "outputs": []
    },
    {
      "cell_type": "code",
      "metadata": {
        "colab": {
          "base_uri": "https://localhost:8080/"
        },
        "id": "5KMIhQWaYhsP",
        "outputId": "e87c1da6-dd08-47a7-bd37-024f4a5ac9d3"
      },
      "source": [
        "add(12,8)"
      ],
      "execution_count": 2,
      "outputs": [
        {
          "output_type": "stream",
          "text": [
            "20\n"
          ],
          "name": "stdout"
        }
      ]
    },
    {
      "cell_type": "code",
      "metadata": {
        "colab": {
          "base_uri": "https://localhost:8080/"
        },
        "id": "FSc75_9dYi0Z",
        "outputId": "f3a6f026-69b9-4236-89fe-93ef3aa98e22"
      },
      "source": [
        "add(2,7)"
      ],
      "execution_count": 3,
      "outputs": [
        {
          "output_type": "stream",
          "text": [
            "9\n"
          ],
          "name": "stdout"
        }
      ]
    },
    {
      "cell_type": "code",
      "metadata": {
        "colab": {
          "base_uri": "https://localhost:8080/"
        },
        "id": "LWv1ZqNgYjyi",
        "outputId": "0095ee6e-199e-49ac-f1c9-e0290ffc784c"
      },
      "source": [
        "add(6,10)"
      ],
      "execution_count": 4,
      "outputs": [
        {
          "output_type": "stream",
          "text": [
            "16\n"
          ],
          "name": "stdout"
        }
      ]
    },
    {
      "cell_type": "code",
      "metadata": {
        "colab": {
          "base_uri": "https://localhost:8080/",
          "height": 166
        },
        "id": "T8RiQIqCaoLz",
        "outputId": "dec57f52-4b9f-47b0-9223-5bd09b306dab"
      },
      "source": [
        "add(2,3,4)"
      ],
      "execution_count": 9,
      "outputs": [
        {
          "output_type": "error",
          "ename": "TypeError",
          "evalue": "ignored",
          "traceback": [
            "\u001b[0;31m---------------------------------------------------------------------------\u001b[0m",
            "\u001b[0;31mTypeError\u001b[0m                                 Traceback (most recent call last)",
            "\u001b[0;32m<ipython-input-9-0fe015c80267>\u001b[0m in \u001b[0;36m<module>\u001b[0;34m()\u001b[0m\n\u001b[0;32m----> 1\u001b[0;31m \u001b[0madd\u001b[0m\u001b[0;34m(\u001b[0m\u001b[0;36m2\u001b[0m\u001b[0;34m,\u001b[0m\u001b[0;36m3\u001b[0m\u001b[0;34m,\u001b[0m\u001b[0;36m4\u001b[0m\u001b[0;34m)\u001b[0m\u001b[0;34m\u001b[0m\u001b[0;34m\u001b[0m\u001b[0m\n\u001b[0m",
            "\u001b[0;31mTypeError\u001b[0m: add() takes 2 positional arguments but 3 were given"
          ]
        }
      ]
    },
    {
      "cell_type": "markdown",
      "metadata": {
        "id": "s9Ioi8GHY1DF"
      },
      "source": [
        "Multiplication of 3 numbers"
      ]
    },
    {
      "cell_type": "code",
      "metadata": {
        "id": "IVnJ03e7Ykt-"
      },
      "source": [
        "def mul(a,b,c):\n",
        "  p=a*b*c\n",
        "\n",
        "  print(p)"
      ],
      "execution_count": 5,
      "outputs": []
    },
    {
      "cell_type": "code",
      "metadata": {
        "colab": {
          "base_uri": "https://localhost:8080/"
        },
        "id": "a-t8fG-EZ0Ne",
        "outputId": "95514b49-595c-4fe9-937c-c635c536b9d8"
      },
      "source": [
        "mul(12,10,6)"
      ],
      "execution_count": 6,
      "outputs": [
        {
          "output_type": "stream",
          "text": [
            "720\n"
          ],
          "name": "stdout"
        }
      ]
    },
    {
      "cell_type": "code",
      "metadata": {
        "colab": {
          "base_uri": "https://localhost:8080/"
        },
        "id": "y1LX08FBZ2eu",
        "outputId": "a37ab70d-00c0-44c3-e43f-163f35371877"
      },
      "source": [
        "mul(2,3,4)"
      ],
      "execution_count": 7,
      "outputs": [
        {
          "output_type": "stream",
          "text": [
            "24\n"
          ],
          "name": "stdout"
        }
      ]
    },
    {
      "cell_type": "code",
      "metadata": {
        "colab": {
          "base_uri": "https://localhost:8080/",
          "height": 166
        },
        "id": "Sy2zt6uFZ32_",
        "outputId": "0a7e3391-e7fd-4a74-ce60-275653c1d929"
      },
      "source": [
        "mul(3,4,6,7)"
      ],
      "execution_count": 8,
      "outputs": [
        {
          "output_type": "error",
          "ename": "TypeError",
          "evalue": "ignored",
          "traceback": [
            "\u001b[0;31m---------------------------------------------------------------------------\u001b[0m",
            "\u001b[0;31mTypeError\u001b[0m                                 Traceback (most recent call last)",
            "\u001b[0;32m<ipython-input-8-50f50e8cb795>\u001b[0m in \u001b[0;36m<module>\u001b[0;34m()\u001b[0m\n\u001b[0;32m----> 1\u001b[0;31m \u001b[0mmul\u001b[0m\u001b[0;34m(\u001b[0m\u001b[0;36m3\u001b[0m\u001b[0;34m,\u001b[0m\u001b[0;36m4\u001b[0m\u001b[0;34m,\u001b[0m\u001b[0;36m6\u001b[0m\u001b[0;34m,\u001b[0m\u001b[0;36m7\u001b[0m\u001b[0;34m)\u001b[0m\u001b[0;34m\u001b[0m\u001b[0;34m\u001b[0m\u001b[0m\n\u001b[0m",
            "\u001b[0;31mTypeError\u001b[0m: mul() takes 3 positional arguments but 4 were given"
          ]
        }
      ]
    },
    {
      "cell_type": "markdown",
      "metadata": {
        "id": "wDPT4AWzaszs"
      },
      "source": [
        "Operation on 2 numbers\n",
        "\n",
        "addition\n",
        "subtraction\n",
        "multiplication\n",
        "division"
      ]
    },
    {
      "cell_type": "code",
      "metadata": {
        "id": "CVk2qXPgaam8"
      },
      "source": [
        "def compute(a,b):\n",
        "\n",
        "  c=a+b\n",
        "  d=a-b\n",
        "  e=a*b\n",
        "  f=a/b\n",
        "\n",
        "  print(c,d,e,f)"
      ],
      "execution_count": 10,
      "outputs": []
    },
    {
      "cell_type": "code",
      "metadata": {
        "colab": {
          "base_uri": "https://localhost:8080/"
        },
        "id": "wbn_1bw0bHm7",
        "outputId": "b13624fc-49e4-44c2-df7f-4f52c8bd8949"
      },
      "source": [
        "compute(10,20)"
      ],
      "execution_count": 11,
      "outputs": [
        {
          "output_type": "stream",
          "text": [
            "30 -10 200 0.5\n"
          ],
          "name": "stdout"
        }
      ]
    },
    {
      "cell_type": "code",
      "metadata": {
        "colab": {
          "base_uri": "https://localhost:8080/"
        },
        "id": "zieqxRHYbN8W",
        "outputId": "2354df7e-df29-48d0-89b8-71cc7cb46ee5"
      },
      "source": [
        "compute(20,25)"
      ],
      "execution_count": 12,
      "outputs": [
        {
          "output_type": "stream",
          "text": [
            "45 -5 500 0.8\n"
          ],
          "name": "stdout"
        }
      ]
    },
    {
      "cell_type": "code",
      "metadata": {
        "id": "VUtOfkPlbVWA"
      },
      "source": [
        ""
      ],
      "execution_count": null,
      "outputs": []
    }
  ]
}