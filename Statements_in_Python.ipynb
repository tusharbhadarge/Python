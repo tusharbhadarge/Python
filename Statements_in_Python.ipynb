{
  "nbformat": 4,
  "nbformat_minor": 0,
  "metadata": {
    "colab": {
      "name": "Statements_in_Python.ipynb",
      "provenance": []
    },
    "kernelspec": {
      "name": "python3",
      "display_name": "Python 3"
    },
    "language_info": {
      "name": "python"
    }
  },
  "cells": [
    {
      "cell_type": "markdown",
      "metadata": {
        "id": "d_7nwzXsNeyu"
      },
      "source": [
        "1. PASS\n",
        "2. BREAK\n",
        "3. CONTINUE"
      ]
    },
    {
      "cell_type": "code",
      "metadata": {
        "colab": {
          "base_uri": "https://localhost:8080/"
        },
        "id": "6eEr7eZvM_qX",
        "outputId": "d87c5fdd-2cdb-4c98-8b6a-aa23e1d4daee"
      },
      "source": [
        "#Break Statements - used to forcebly come out of the loop\n",
        "l1=['mango','apple','banana','grape','apricot','pineapple']\n",
        "\n",
        "for i in l1:\n",
        "  if i=='grape':\n",
        "    break #come out of the loop if the value of i becomes 'grape'\n",
        "\n",
        "  print(i)"
      ],
      "execution_count": 9,
      "outputs": [
        {
          "output_type": "stream",
          "text": [
            "mango\n",
            "apple\n",
            "banana\n"
          ],
          "name": "stdout"
        }
      ]
    },
    {
      "cell_type": "code",
      "metadata": {
        "colab": {
          "base_uri": "https://localhost:8080/"
        },
        "id": "I2A8aWiFPCBV",
        "outputId": "4014fd95-a58a-49a3-9399-c1bea3783850"
      },
      "source": [
        "#Continue Statements - used to surpass the element in the condition and continues ahead with the loop\n",
        "\n",
        "l1=['mango','apple','banana','grape','apricot','pineapple']\n",
        "\n",
        "for i in l1:\n",
        "  if i=='grape':\n",
        "    continue #if the value of i becomes 'grape', that value will be surpassed and loop will continue\n",
        "    \n",
        "  print(i)"
      ],
      "execution_count": 10,
      "outputs": [
        {
          "output_type": "stream",
          "text": [
            "mango\n",
            "apple\n",
            "banana\n",
            "apricot\n",
            "pineapple\n"
          ],
          "name": "stdout"
        }
      ]
    },
    {
      "cell_type": "markdown",
      "metadata": {
        "id": "jD2rTa5mRR_O"
      },
      "source": [
        "Display all the numbers between 0 to 6 except 3 and 5"
      ]
    },
    {
      "cell_type": "code",
      "metadata": {
        "colab": {
          "base_uri": "https://localhost:8080/"
        },
        "id": "1dW8gWF_TINX",
        "outputId": "4990413b-2f63-4d6f-b7e4-22c47ceff860"
      },
      "source": [
        "l1=[0,1,2,3,4,5,6]\n",
        "\n",
        "for i in l1:\n",
        "  if i==3 or i==5:\n",
        "    continue\n",
        "  print(i)"
      ],
      "execution_count": 22,
      "outputs": [
        {
          "output_type": "stream",
          "text": [
            "0\n",
            "1\n",
            "2\n",
            "4\n",
            "6\n"
          ],
          "name": "stdout"
        }
      ]
    },
    {
      "cell_type": "code",
      "metadata": {
        "colab": {
          "base_uri": "https://localhost:8080/"
        },
        "id": "JaHIkBTJQ7ep",
        "outputId": "84c61039-2739-414a-c8ae-b2ff9ec35a9f"
      },
      "source": [
        "for i in range(0,7):\n",
        "  if i==3 or i==5:\n",
        "    continue\n",
        "  print(i)\n"
      ],
      "execution_count": 20,
      "outputs": [
        {
          "output_type": "stream",
          "text": [
            "0\n",
            "1\n",
            "2\n",
            "4\n",
            "6\n"
          ],
          "name": "stdout"
        }
      ]
    },
    {
      "cell_type": "code",
      "metadata": {
        "id": "mUzBKC5US9zF"
      },
      "source": [
        ""
      ],
      "execution_count": null,
      "outputs": []
    }
  ]
}